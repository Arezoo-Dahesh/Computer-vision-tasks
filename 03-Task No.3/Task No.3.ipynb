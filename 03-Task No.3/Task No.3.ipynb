{
 "cells": [
  {
   "cell_type": "markdown",
   "id": "60b6f39c",
   "metadata": {},
   "source": [
    "# Road Lane segmentation from video"
   ]
  },
  {
   "cell_type": "code",
   "execution_count": 1,
   "id": "cb72b86c",
   "metadata": {},
   "outputs": [],
   "source": [
    "import cv2\n",
    "import numpy as np\n",
    "import matplotlib.pyplot as plt"
   ]
  },
  {
   "cell_type": "code",
   "execution_count": 2,
   "id": "353a21ac",
   "metadata": {},
   "outputs": [],
   "source": [
    "def get_coordinates(event, x, y, flags, params):\n",
    "    \"\"\"With the help of this function, we can get the coordinates of the desired points from the image.\"\"\"\n",
    "    \n",
    "    if event == cv2.EVENT_LBUTTONDOWN:\n",
    "        print(f'({x},{y})')\n",
    "        cv2.putText(frame, f'({x},{y})',(x,y),\n",
    "        cv2.FONT_HERSHEY_SIMPLEX, 1, (0, 0, 255), 2)\n",
    "        cv2.circle(frame, (x,y), 3, (0,255,255), -1)"
   ]
  },
  {
   "cell_type": "code",
   "execution_count": 3,
   "id": "121972dd",
   "metadata": {},
   "outputs": [],
   "source": [
    "def ROI(image, vertices):\n",
    "    \"\"\"This function crops the region of interest.\"\"\"\n",
    "    \n",
    "    mask = np.zeros_like(image)\n",
    "    match_mask_color = 255\n",
    "    cv2.fillPoly(mask, np.int32([vertices]), match_mask_color)\n",
    "    masked_image = cv2.bitwise_and(image, mask)\n",
    "    return masked_image"
   ]
  },
  {
   "cell_type": "code",
   "execution_count": null,
   "id": "48a7ca95",
   "metadata": {},
   "outputs": [],
   "source": []
  },
  {
   "cell_type": "code",
   "execution_count": 4,
   "id": "501cf200",
   "metadata": {},
   "outputs": [],
   "source": [
    "vid_capture = cv2.VideoCapture('road.webm')"
   ]
  },
  {
   "cell_type": "code",
   "execution_count": 5,
   "id": "2de45417",
   "metadata": {},
   "outputs": [
    {
     "name": "stdout",
     "output_type": "stream",
     "text": [
      "Frames per second :  23.976023976023978 FPS\n",
      "Frames width :  596\n",
      "Frames height :  336\n",
      "Frame count :  522.0\n"
     ]
    }
   ],
   "source": [
    "if (vid_capture.isOpened() == False):\n",
    "    print(\"Error opening the video file\")\n",
    "else:\n",
    "    fps = vid_capture.get(5)\n",
    "    print('Frames per second : ', fps,'FPS')\n",
    "    frame_width = int(vid_capture.get(3))\n",
    "    print('Frames width : ', frame_width)\n",
    "    frame_height = int(vid_capture.get(4))\n",
    "    print('Frames height : ', frame_height)\n",
    "    frame_count = vid_capture.get(7)\n",
    "    print('Frame count : ', frame_count)"
   ]
  },
  {
   "cell_type": "markdown",
   "id": "81d7b21e",
   "metadata": {},
   "source": [
    "## For one frame"
   ]
  },
  {
   "cell_type": "code",
   "execution_count": 6,
   "id": "36894d95",
   "metadata": {},
   "outputs": [],
   "source": [
    "ret, frame = vid_capture.read()"
   ]
  },
  {
   "cell_type": "code",
   "execution_count": 13,
   "id": "2e123307",
   "metadata": {},
   "outputs": [
    {
     "name": "stdout",
     "output_type": "stream",
     "text": [
      "(1,317)\n",
      "(226,70)\n",
      "(380,72)\n",
      "(585,332)\n"
     ]
    }
   ],
   "source": [
    "# Getting the coordinates of each point\n",
    "cv2.namedWindow('Frame')\n",
    "cv2.setMouseCallback('Frame', get_coordinates)\n",
    "\n",
    "while True:\n",
    "    cv2.imshow('Frame',frame)\n",
    "    if cv2.waitKey(1) == 13:\n",
    "        # 13 is the Enter Key\n",
    "        break\n",
    "        \n",
    "vid_capture.release()\n",
    "cv2.destroyAllWindows()"
   ]
  },
  {
   "cell_type": "code",
   "execution_count": 7,
   "id": "459e3f29",
   "metadata": {},
   "outputs": [
    {
     "data": {
      "text/plain": [
       "336"
      ]
     },
     "execution_count": 7,
     "metadata": {},
     "output_type": "execute_result"
    }
   ],
   "source": [
    "frame_height"
   ]
  },
  {
   "cell_type": "code",
   "execution_count": 8,
   "id": "0d668ad3",
   "metadata": {},
   "outputs": [
    {
     "data": {
      "text/plain": [
       "596"
      ]
     },
     "execution_count": 8,
     "metadata": {},
     "output_type": "execute_result"
    }
   ],
   "source": [
    "frame_width"
   ]
  },
  {
   "cell_type": "code",
   "execution_count": 9,
   "id": "950b00ef",
   "metadata": {},
   "outputs": [],
   "source": [
    "points = np.array([[1,336], [226,72], [380,72], [596,336]])"
   ]
  },
  {
   "cell_type": "code",
   "execution_count": 10,
   "id": "7b3e7ef9",
   "metadata": {},
   "outputs": [
    {
     "data": {
      "text/plain": [
       "<matplotlib.image.AxesImage at 0x2429bcf54f0>"
      ]
     },
     "execution_count": 10,
     "metadata": {},
     "output_type": "execute_result"
    },
    {
     "data": {
      "image/png": "[encoded data removed]",
      "text/plain": [
       "<Figure size 640x480 with 1 Axes>"
      ]
     },
     "metadata": {},
     "output_type": "display_data"
    }
   ],
   "source": [
    "# Converting each frame to grayscale\n",
    "gray_frame = cv2.cvtColor(frame, cv2.COLOR_BGR2GRAY)\n",
    "\n",
    "# Cropping the region of interest\n",
    "mask_img = ROI(gray_frame, points)\n",
    "\n",
    "# Blurring each frame\n",
    "blur_frame = cv2.GaussianBlur(mask_img, (5,5), 0)\n",
    "\n",
    "# Filtering the colors of each frame\n",
    "_, thresh_frame = cv2.threshold(blur_frame,150,255,cv2.THRESH_BINARY)\n",
    "\n",
    "# Detecting the edges\n",
    "edge_frame = cv2.Canny(thresh_frame, 100, 200)\n",
    "\n",
    "plt.imshow(edge_frame , cmap=\"gray\")"
   ]
  },
  {
   "cell_type": "markdown",
   "id": "3a9942eb",
   "metadata": {},
   "source": [
    "## For video"
   ]
  },
  {
   "cell_type": "code",
   "execution_count": 11,
   "id": "09117857",
   "metadata": {},
   "outputs": [],
   "source": [
    "vid_capture = cv2.VideoCapture('road.webm')\n",
    "\n",
    "# fourcc = cv2.VideoWriter_fourcc(*'mp4v')\n",
    "output = cv2.VideoWriter('output.mp4', -1, fps, (frame_width,frame_height))"
   ]
  },
  {
   "cell_type": "code",
   "execution_count": 12,
   "id": "077be2be",
   "metadata": {},
   "outputs": [],
   "source": [
    "points = np.array([[1,336], [226,72], [380,72], [596,336]])"
   ]
  },
  {
   "cell_type": "code",
   "execution_count": 13,
   "id": "0b134f7a",
   "metadata": {},
   "outputs": [],
   "source": [
    "while(vid_capture.isOpened()):\n",
    "    ret, frame = vid_capture.read()        \n",
    "    if ret:\n",
    "        gray_frame = cv2.cvtColor(frame, cv2.COLOR_BGR2GRAY)\n",
    "        mask_img = ROI(gray_frame, points)\n",
    "        blur_frame = cv2.GaussianBlur(mask_img, (5,5), 0)\n",
    "        _, thresh_frame = cv2.threshold(blur_frame,150,255,cv2.THRESH_BINARY)\n",
    "        edge_frame = cv2.Canny(thresh_frame, 100, 200)\n",
    "        \n",
    "        output.write(edge_frame)\n",
    "        cv2.imshow('Frame', edge_frame)\n",
    "\n",
    "        key = cv2.waitKey(25)\n",
    "        if key == ord('q'):\n",
    "            break\n",
    "    else:\n",
    "        break\n",
    "\n",
    "\n",
    "vid_capture.release()\n",
    "output.release()\n",
    "cv2.destroyAllWindows()"
   ]
  },
  {
   "cell_type": "code",
   "execution_count": null,
   "id": "f6baa63d",
   "metadata": {},
   "outputs": [],
   "source": []
  }
 ],
 "metadata": {
  "kernelspec": {
   "display_name": "Python 3 (ipykernel)",
   "language": "python",
   "name": "python3"
  },
  "language_info": {
   "codemirror_mode": {
    "name": "ipython",
    "version": 3
   },
   "file_extension": ".py",
   "mimetype": "text/x-python",
   "name": "python",
   "nbconvert_exporter": "python",
   "pygments_lexer": "ipython3",
   "version": "3.9.13"
  }
 },
 "nbformat": 4,
 "nbformat_minor": 5
}
